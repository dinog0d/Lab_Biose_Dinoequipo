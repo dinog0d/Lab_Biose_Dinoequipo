{
  "nbformat": 4,
  "nbformat_minor": 0,
  "metadata": {
    "colab": {
      "provenance": [],
      "authorship_tag": "ABX9TyP0gxigXlysZHjlW4ftRN+x",
      "include_colab_link": true
    },
    "kernelspec": {
      "name": "python3",
      "display_name": "Python 3"
    },
    "language_info": {
      "name": "python"
    }
  },
  "cells": [
    {
      "cell_type": "markdown",
      "metadata": {
        "id": "view-in-github",
        "colab_type": "text"
      },
      "source": [
        "<a href=\"https://colab.research.google.com/github/dinog0d/Lab_Biose_Dinoequipo/blob/main/Control/P1_DaironMontes_LauraLlanos.ipynb\" target=\"_parent\"><img src=\"https://colab.research.google.com/assets/colab-badge.svg\" alt=\"Open In Colab\"/></a>"
      ]
    },
    {
      "cell_type": "markdown",
      "source": [
        "<p align=\"center\">\n",
        "  <img alt=\"udeA logo\" height=\"150px\" src=\"https://github.com/freddyduitama/images/blob/master/logo.png?raw=true\">\n",
        "</p>\n",
        "\n",
        "<h1><font color='0B5345'><center>Universidad de Antioquia</center></font></h1>\n",
        "<h2><font color='0B5345'><center>Facultad de Ingeniería</center></font></h2>\n",
        "<h3><font color='0B5345'><center>Bioingeniería</center></font></h3>\n",
        "\n",
        "<hr>\n",
        "\n",
        "<h1><font color='0B5345'><center>Teoría de Control</center></font></h1>\n",
        "\n",
        "<hr>\n",
        "\n",
        "<h2><font color='0B5345'><center>Práctica de Laboratorio</center></font></h2>\n",
        "\n",
        "<h3><font color='0B5345'><center>Docentes:</center></font></h3>\n",
        "<ul>\n",
        "  <li><font color='0B5345' face=\"Courier New\" size=\"3\">Maria Camila Velandia</font></li>\n",
        "  <li><font color='0B5345' face=\"Courier New\" size=\"3\">Frank Sánchez Restrepo</font></li>\n",
        "</ul>\n",
        "\n",
        "<h3><font color='0B5345'><center>Participantes:</center></font></h3>\n",
        "<ul>\n",
        "  <li><font color='0B5345' face=\"Courier New\" size=\"3\">Dairon Alberto Montes Barrada</font></li>\n",
        "  <li><font color='0B5345' face=\"Courier New\" size=\"3\">Laura María Llanos Grisales</font></li>\n",
        "</ul>\n",
        "\n",
        "<hr>\n",
        "\n",
        "<h2><font color='0B5345'><center>Universidad de Antioquia - 1803</center></font></h2>"
      ],
      "metadata": {
        "id": "DTxRH2Ry_AfW"
      }
    },
    {
      "cell_type": "markdown",
      "source": [
        "#4. INFORMACIÓN PREVIA\n",
        "\n",
        "---\n",
        "\n"
      ],
      "metadata": {
        "id": "MB77E1Y56V65"
      }
    },
    {
      "cell_type": "markdown",
      "source": [
        "¿Cuáles son las diferentes partes en las que se divide un sistema de control?"
      ],
      "metadata": {
        "id": "z0sIbCw_6Gn1"
      }
    },
    {
      "cell_type": "markdown",
      "source": [
        "¿Cuáles son las diferencias entre sistemas en lazo abierto y en lazo cerrado?"
      ],
      "metadata": {
        "id": "rr3-woY96O8y"
      }
    },
    {
      "cell_type": "markdown",
      "source": [
        "\n",
        "\n",
        "---\n",
        "\n"
      ],
      "metadata": {
        "id": "IL1pSw9x6UqY"
      }
    },
    {
      "cell_type": "markdown",
      "source": [
        "# 5. DESARROLLO\n",
        "\n",
        "## 5.1. Hallar la respuesta de los sistemas ante las entradas especiales: escalón, impulso y rampa (en lazo abierto) con python-control y scipy\n",
        "\n",
        "![image.png](data:image/png;base64,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)"
      ],
      "metadata": {
        "id": "GV3N0vqV6aAb"
      }
    },
    {
      "cell_type": "markdown",
      "source": [
        "<!DOCTYPE html>\n",
        "<html lang=\"es\">\n",
        "<head>\n",
        "    <meta charset=\"UTF-8\">\n",
        "    <meta name=\"viewport\" content=\"width=device-width, initial-scale=1.0\">\n",
        "    <title>Fórmulas en HTML</title>\n",
        "    <script src=\"https://polyfill.io/v3/polyfill.min.js?features=es6\"></script>\n",
        "    <script id=\"MathJax-script\" async src=\"https://cdn.jsdelivr.net/npm/mathjax@3/es5/tex-mml-chtml.js\"></script>\n",
        "</head>\n",
        "<body>\n",
        "\n",
        "<h1>Fórmulas de Transferencia</h1>\n",
        "\n",
        "<p>La función de transferencia \\( F1(s) \\) es:</p>\n",
        "<p>\\[ F1(s) = \\frac{2s + 8}{s^2 + 4s + 16} \\]</p>\n",
        "\n",
        "<p>La función de transferencia \\( F2(s) \\) es:</p>\n",
        "<p>\\[ F2(s) = \\frac{15s + 12}{s^3 + 8s^2 + 24s + 20} \\]</p>\n",
        "\n",
        "</body>\n",
        "</html>"
      ],
      "metadata": {
        "id": "tXszRa5m6iDy"
      }
    }
  ]
}